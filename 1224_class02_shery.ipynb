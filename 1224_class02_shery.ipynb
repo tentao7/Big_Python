{
  "nbformat": 4,
  "nbformat_minor": 0,
  "metadata": {
    "colab": {
      "name": "1224_class02_shery.ipynb",
      "version": "0.3.2",
      "provenance": [],
      "collapsed_sections": [],
      "include_colab_link": true
    },
    "kernelspec": {
      "name": "python3",
      "display_name": "Python 3"
    }
  },
  "cells": [
    {
      "cell_type": "markdown",
      "metadata": {
        "id": "view-in-github",
        "colab_type": "text"
      },
      "source": [
        "<a href=\"https://colab.research.google.com/github/tentao7/Python/blob/master/1224_class02_shery.ipynb\" target=\"_parent\"><img src=\"https://colab.research.google.com/assets/colab-badge.svg\" alt=\"Open In Colab\"/></a>"
      ]
    },
    {
      "metadata": {
        "id": "gR3MYJZVwhwO",
        "colab_type": "code",
        "outputId": "c85374b4-70b1-4286-db47-be5b9c50b436",
        "colab": {
          "base_uri": "https://localhost:8080/",
          "height": 414
        }
      },
      "cell_type": "code",
      "source": [
        "!pip install mglearn"
      ],
      "execution_count": 2,
      "outputs": [
        {
          "output_type": "stream",
          "text": [
            "Collecting mglearn\n",
            "\u001b[?25l  Downloading https://files.pythonhosted.org/packages/fb/01/8d3630ecc767c9de96a9c46e055f2a3a5f9e14a47d3d0348a36a5005fe67/mglearn-0.1.7.tar.gz (540kB)\n",
            "\u001b[K    100% |████████████████████████████████| 542kB 22.9MB/s \n",
            "\u001b[?25hRequirement already satisfied: numpy in /usr/local/lib/python3.6/dist-packages (from mglearn) (1.14.6)\n",
            "Requirement already satisfied: matplotlib in /usr/local/lib/python3.6/dist-packages (from mglearn) (2.1.2)\n",
            "Requirement already satisfied: scikit-learn in /usr/local/lib/python3.6/dist-packages (from mglearn) (0.20.1)\n",
            "Requirement already satisfied: pandas in /usr/local/lib/python3.6/dist-packages (from mglearn) (0.22.0)\n",
            "Requirement already satisfied: pillow in /usr/local/lib/python3.6/dist-packages (from mglearn) (4.0.0)\n",
            "Requirement already satisfied: cycler in /usr/local/lib/python3.6/dist-packages (from mglearn) (0.10.0)\n",
            "Requirement already satisfied: imageio in /usr/local/lib/python3.6/dist-packages (from mglearn) (2.4.1)\n",
            "Requirement already satisfied: six>=1.10 in /usr/local/lib/python3.6/dist-packages (from matplotlib->mglearn) (1.11.0)\n",
            "Requirement already satisfied: python-dateutil>=2.1 in /usr/local/lib/python3.6/dist-packages (from matplotlib->mglearn) (2.5.3)\n",
            "Requirement already satisfied: pytz in /usr/local/lib/python3.6/dist-packages (from matplotlib->mglearn) (2018.7)\n",
            "Requirement already satisfied: pyparsing!=2.0.4,!=2.1.2,!=2.1.6,>=2.0.1 in /usr/local/lib/python3.6/dist-packages (from matplotlib->mglearn) (2.3.0)\n",
            "Requirement already satisfied: scipy>=0.13.3 in /usr/local/lib/python3.6/dist-packages (from scikit-learn->mglearn) (1.1.0)\n",
            "Requirement already satisfied: olefile in /usr/local/lib/python3.6/dist-packages (from pillow->mglearn) (0.46)\n",
            "Building wheels for collected packages: mglearn\n",
            "  Running setup.py bdist_wheel for mglearn ... \u001b[?25l-\b \b\\\b \b|\b \bdone\n",
            "\u001b[?25h  Stored in directory: /root/.cache/pip/wheels/74/cf/8d/04f4932d15854a36726c6210763c7127e62de28f5c8ddfcf3b\n",
            "Successfully built mglearn\n",
            "Installing collected packages: mglearn\n",
            "Successfully installed mglearn-0.1.7\n"
          ],
          "name": "stdout"
        }
      ]
    },
    {
      "metadata": {
        "id": "J0ITPnCHju3v",
        "colab_type": "code",
        "colab": {}
      },
      "cell_type": "code",
      "source": [
        "# !pip install mglearn\n",
        "import numpy as np\n",
        "import matplotlib.pyplot as plt\n",
        "import mglearn\n",
        "\n",
        "from sklearn.model_selection import train_test_split\n",
        "from sklearn.linear_model import LinearRegression\n",
        "from sklearn.preprocessing import MinMaxScaler, PolynomialFeatures\n",
        "\n",
        "import warnings\n",
        "import sklearn\n",
        "import time\n",
        "import sys\n",
        "import os"
      ],
      "execution_count": 0,
      "outputs": []
    },
    {
      "metadata": {
        "id": "gBZzGtQAnOMw",
        "colab_type": "text"
      },
      "cell_type": "markdown",
      "source": [
        "###\n",
        "randint :Discrete uniform distribution, yielding integers\n",
        "random_integers: Discrete uniform distribution over the \n",
        "              closed interval [low, high].\n",
        "random_sample : Floats uniformly distributed over [0, 1).\n",
        "random  : Alias for random_sample.\n",
        "rand : Convenience function that accepts dimensions as input, e.g., rand(2,2) would generate a 2-by-2 array of floats, uniformly distributed over [0, 1).\n"
      ]
    },
    {
      "metadata": {
        "id": "wrMRMsn6w3Ye",
        "colab_type": "code",
        "colab": {}
      },
      "cell_type": "code",
      "source": [
        "def make_wave(n_samples=100):\n",
        "  rnd = np.random.RandomState(42)\n",
        "  x = rnd.uniform(-3,10, size=n_samples)  # -3에서 3까지 분포를 갖는 데이타\n",
        "  y_no_noise = (np.sin(4*x) +  x)          # \n",
        "  y = (y_no_noise + rnd.normal(size=len(x))) / 2\n",
        "  return x.reshape(-1,1),y"
      ],
      "execution_count": 0,
      "outputs": []
    },
    {
      "metadata": {
        "id": "tijWruj4xoYQ",
        "colab_type": "code",
        "outputId": "6b439e2f-e6cd-4524-98ae-b74d0ca5ce8d",
        "colab": {
          "base_uri": "https://localhost:8080/",
          "height": 86
        }
      },
      "cell_type": "code",
      "source": [
        "X, y = make_wave(10)\n",
        "print(X.shape, y.shape)\n",
        "print(X.dtype, y.dtype)\n",
        "print(X.size, y.size)\n",
        "print(X.ndim, y.ndim)"
      ],
      "execution_count": 5,
      "outputs": [
        {
          "output_type": "stream",
          "text": [
            "(10, 1) (10,)\n",
            "float64 float64\n",
            "10 10\n",
            "2 1\n"
          ],
          "name": "stdout"
        }
      ]
    },
    {
      "metadata": {
        "id": "Kix6UGmHy3Gb",
        "colab_type": "code",
        "outputId": "6c745174-c32a-4cc0-ab6d-45c733571ed8",
        "colab": {
          "base_uri": "https://localhost:8080/",
          "height": 464
        }
      },
      "cell_type": "code",
      "source": [
        "mglearn.plots.plot_linear_regression_wave()"
      ],
      "execution_count": 6,
      "outputs": [
        {
          "output_type": "stream",
          "text": [
            "w[0]: 0.393906  b: -0.031804\n"
          ],
          "name": "stdout"
        },
        {
          "output_type": "display_data",
          "data": {
            "image/png": "[encoded data removed]",
            "text/plain": [
              "<matplotlib.figure.Figure at 0x7f26d735a128>"
            ]
          },
          "metadata": {
            "tags": []
          }
        }
      ]
    },
    {
      "metadata": {
        "id": "NlJlkkaKzlSk",
        "colab_type": "code",
        "outputId": "a1720858-f718-41c5-bf25-6d1185000ccb",
        "colab": {
          "base_uri": "https://localhost:8080/",
          "height": 34
        }
      },
      "cell_type": "code",
      "source": [
        "from sklearn.model_selection import train_test_split\n",
        "from sklearn.linear_model import LinearRegression\n",
        "\n",
        "X, y = make_wave(60)\n",
        "X_train, X_test, y_train, y_test = train_test_split(X, y)\n",
        "print(X_train.shape,X_test.shape)"
      ],
      "execution_count": 7,
      "outputs": [
        {
          "output_type": "stream",
          "text": [
            "(45, 1) (15, 1)\n"
          ],
          "name": "stdout"
        }
      ]
    },
    {
      "metadata": {
        "id": "hXVVkDQp0Y5k",
        "colab_type": "code",
        "outputId": "43d671e8-2d5a-4f48-c0c2-b88c8e0291e4",
        "colab": {
          "base_uri": "https://localhost:8080/",
          "height": 51
        }
      },
      "cell_type": "code",
      "source": [
        "lr=LinearRegression()  # 선형 회귀 모델 \n",
        "lr.fit(X_train,y_train)  # 학습"
      ],
      "execution_count": 8,
      "outputs": [
        {
          "output_type": "execute_result",
          "data": {
            "text/plain": [
              "LinearRegression(copy_X=True, fit_intercept=True, n_jobs=None,\n",
              "         normalize=False)"
            ]
          },
          "metadata": {
            "tags": []
          },
          "execution_count": 8
        }
      ]
    },
    {
      "metadata": {
        "id": "rX08gelz0xWS",
        "colab_type": "code",
        "outputId": "4d744ccb-ffa5-4411-cb44-5a5e1b90ab2e",
        "colab": {
          "base_uri": "https://localhost:8080/",
          "height": 68
        }
      },
      "cell_type": "code",
      "source": [
        "lr.predict(X_test)   # 예측 \n"
      ],
      "execution_count": 9,
      "outputs": [
        {
          "output_type": "execute_result",
          "data": {
            "text/plain": [
              "array([-0.20098962, -0.77734642,  2.05228987, -0.36035166,  2.9015353 ,\n",
              "        2.38825589, -0.19123546,  3.46286962, -0.09076768,  3.1964737 ,\n",
              "        1.34357894,  0.98908595,  0.55497486, -0.92210127,  0.68520031])"
            ]
          },
          "metadata": {
            "tags": []
          },
          "execution_count": 9
        }
      ]
    },
    {
      "metadata": {
        "id": "vHrSMD2G1dGC",
        "colab_type": "code",
        "outputId": "e319f503-33ed-4f85-d808-c36247cec627",
        "colab": {
          "base_uri": "https://localhost:8080/",
          "height": 51
        }
      },
      "cell_type": "code",
      "source": [
        "print(\"훈련 데이터 세트 점수 : {:.3f}\".format(lr.score(X_train, y_train)))\n",
        "print(\"테스트 데이터 세트 점수 : {:.3f}\".format(lr.score(X_test, y_test)))"
      ],
      "execution_count": 10,
      "outputs": [
        {
          "output_type": "stream",
          "text": [
            "훈련 데이터 세트 점수 : 0.917\n",
            "테스트 데이터 세트 점수 : 0.848\n"
          ],
          "name": "stdout"
        }
      ]
    },
    {
      "metadata": {
        "id": "A3SExNZd5OC0",
        "colab_type": "text"
      },
      "cell_type": "markdown",
      "source": [
        "###Ridge, Lasso\n"
      ]
    },
    {
      "metadata": {
        "id": "th06jwDi5Fwj",
        "colab_type": "text"
      },
      "cell_type": "markdown",
      "source": [
        "\n"
      ]
    },
    {
      "metadata": {
        "id": "MKBEoJawsgMX",
        "colab_type": "code",
        "colab": {
          "base_uri": "https://localhost:8080/",
          "height": 226
        },
        "outputId": "e3814a91-c607-4a31-cdae-977d868d4fbb"
      },
      "cell_type": "code",
      "source": [
        "!pip install Ridge"
      ],
      "execution_count": 31,
      "outputs": [
        {
          "output_type": "stream",
          "text": [
            "Collecting Ridge\n",
            "  Downloading https://files.pythonhosted.org/packages/a9/ea/8564e32ca241e46ad332e59028b358085194718fdb59c1cd4d402fcf8f5b/ridge-0.0.5.tar.gz\n",
            "Requirement already satisfied: numpy in /usr/local/lib/python3.6/dist-packages (from Ridge) (1.14.6)\n",
            "Requirement already satisfied: scipy in /usr/local/lib/python3.6/dist-packages (from Ridge) (1.1.0)\n",
            "Requirement already satisfied: tqdm in /usr/local/lib/python3.6/dist-packages (from Ridge) (4.28.1)\n",
            "Building wheels for collected packages: Ridge\n",
            "  Running setup.py bdist_wheel for Ridge ... \u001b[?25l-\b \b\\\b \b|\b \b/\b \b-\b \b\\\b \b|\b \b/\b \b-\b \b\\\b \b|\b \b/\b \b-\b \bdone\n",
            "\u001b[?25h  Stored in directory: /root/.cache/pip/wheels/39/17/de/36b2fc1dca30d30db6df3879a4a7e649f9495a93dca1a6ebb4\n",
            "Successfully built Ridge\n",
            "Installing collected packages: Ridge\n",
            "Successfully installed Ridge-0.0.5\n"
          ],
          "name": "stdout"
        }
      ]
    },
    {
      "metadata": {
        "id": "4TV8gV-A5YJT",
        "colab_type": "code",
        "colab": {}
      },
      "cell_type": "code",
      "source": [
        "\n",
        "from sklearn.datasets import load_boston\n",
        "from sklearn.model_selection import train_test_split\n",
        "from sklearn.linear_model import LinearRegression\n",
        "from sklearn.preprocessing import MinMaxScaler, PolynomialFeatures\n",
        "from sklearn.linear_model import Ridge   # 릿지회귀\n",
        "import matplotlib.pyplot as plt\n"
      ],
      "execution_count": 0,
      "outputs": []
    },
    {
      "metadata": {
        "id": "6XBzjrnFmwrS",
        "colab_type": "code",
        "colab": {
          "base_uri": "https://localhost:8080/",
          "height": 373
        },
        "outputId": "fb54caba-7d43-4b24-b8b6-3ccaf378089a"
      },
      "cell_type": "code",
      "source": [
        "# 한글\n",
        "import matplotlib\n",
        "from matplotlib import font_manager, rc\n",
        "font_loc = \"./malgunbd.ttf\"\n",
        "font_name = font_manager.FontProperties(fname=font_loc).get_name()\n",
        "matplotlib.rc('font', family=font_name)\n",
        "\n",
        "%matplotlib inline"
      ],
      "execution_count": 33,
      "outputs": [
        {
          "output_type": "error",
          "ename": "FileNotFoundError",
          "evalue": "ignored",
          "traceback": [
            "\u001b[0;31m---------------------------------------------------------------------------\u001b[0m",
            "\u001b[0;31mFileNotFoundError\u001b[0m                         Traceback (most recent call last)",
            "\u001b[0;32m<ipython-input-33-b1a97a9c0b2e>\u001b[0m in \u001b[0;36m<module>\u001b[0;34m()\u001b[0m\n\u001b[1;32m      2\u001b[0m \u001b[0;32mfrom\u001b[0m \u001b[0mmatplotlib\u001b[0m \u001b[0;32mimport\u001b[0m \u001b[0mfont_manager\u001b[0m\u001b[0;34m,\u001b[0m \u001b[0mrc\u001b[0m\u001b[0;34m\u001b[0m\u001b[0;34m\u001b[0m\u001b[0m\n\u001b[1;32m      3\u001b[0m \u001b[0mfont_loc\u001b[0m \u001b[0;34m=\u001b[0m \u001b[0;34m\"./malgunbd.ttf\"\u001b[0m\u001b[0;34m\u001b[0m\u001b[0;34m\u001b[0m\u001b[0m\n\u001b[0;32m----> 4\u001b[0;31m \u001b[0mfont_name\u001b[0m \u001b[0;34m=\u001b[0m \u001b[0mfont_manager\u001b[0m\u001b[0;34m.\u001b[0m\u001b[0mFontProperties\u001b[0m\u001b[0;34m(\u001b[0m\u001b[0mfname\u001b[0m\u001b[0;34m=\u001b[0m\u001b[0mfont_loc\u001b[0m\u001b[0;34m)\u001b[0m\u001b[0;34m.\u001b[0m\u001b[0mget_name\u001b[0m\u001b[0;34m(\u001b[0m\u001b[0;34m)\u001b[0m\u001b[0;34m\u001b[0m\u001b[0;34m\u001b[0m\u001b[0m\n\u001b[0m\u001b[1;32m      5\u001b[0m \u001b[0mmatplotlib\u001b[0m\u001b[0;34m.\u001b[0m\u001b[0mrc\u001b[0m\u001b[0;34m(\u001b[0m\u001b[0;34m'font'\u001b[0m\u001b[0;34m,\u001b[0m \u001b[0mfamily\u001b[0m\u001b[0;34m=\u001b[0m\u001b[0mfont_name\u001b[0m\u001b[0;34m)\u001b[0m\u001b[0;34m\u001b[0m\u001b[0;34m\u001b[0m\u001b[0m\n\u001b[1;32m      6\u001b[0m \u001b[0;34m\u001b[0m\u001b[0m\n",
            "\u001b[0;32m/usr/local/lib/python3.6/dist-packages/matplotlib/font_manager.py\u001b[0m in \u001b[0;36mget_name\u001b[0;34m(self)\u001b[0m\n\u001b[1;32m    735\u001b[0m         \u001b[0mproperties\u001b[0m\u001b[0;34m.\u001b[0m\u001b[0;34m\u001b[0m\u001b[0;34m\u001b[0m\u001b[0m\n\u001b[1;32m    736\u001b[0m         \"\"\"\n\u001b[0;32m--> 737\u001b[0;31m         \u001b[0;32mreturn\u001b[0m \u001b[0mget_font\u001b[0m\u001b[0;34m(\u001b[0m\u001b[0mfindfont\u001b[0m\u001b[0;34m(\u001b[0m\u001b[0mself\u001b[0m\u001b[0;34m)\u001b[0m\u001b[0;34m)\u001b[0m\u001b[0;34m.\u001b[0m\u001b[0mfamily_name\u001b[0m\u001b[0;34m\u001b[0m\u001b[0;34m\u001b[0m\u001b[0m\n\u001b[0m\u001b[1;32m    738\u001b[0m \u001b[0;34m\u001b[0m\u001b[0m\n\u001b[1;32m    739\u001b[0m     \u001b[0;32mdef\u001b[0m \u001b[0mget_style\u001b[0m\u001b[0;34m(\u001b[0m\u001b[0mself\u001b[0m\u001b[0;34m)\u001b[0m\u001b[0;34m:\u001b[0m\u001b[0;34m\u001b[0m\u001b[0;34m\u001b[0m\u001b[0m\n",
            "\u001b[0;31mFileNotFoundError\u001b[0m: [Errno 2] No such file or directory: './malgunbd.ttf'"
          ]
        }
      ]
    },
    {
      "metadata": {
        "id": "LsK2oR9Fph_v",
        "colab_type": "text"
      },
      "cell_type": "markdown",
      "source": [
        "### 새 섹션"
      ]
    },
    {
      "metadata": {
        "id": "CcAhE6cj5i1P",
        "colab_type": "code",
        "colab": {}
      },
      "cell_type": "code",
      "source": [
        "def load_extended_boston():\n",
        "    boston = load_boston()  # 데이터 셋 불러오기\n",
        "    X = boston.data         # 입력 데이터 \n",
        "    \n",
        "    X = MinMaxScaler().fit_transform(boston.data)  # 입력 데이터 정규화\n",
        "    X = PolynomialFeatures(degree=2, include_bias=False).fit_transform(X)\n",
        "    return X, boston.target"
      ],
      "execution_count": 0,
      "outputs": []
    },
    {
      "metadata": {
        "id": "lsOWO8eXp_qR",
        "colab_type": "code",
        "colab": {
          "base_uri": "https://localhost:8080/",
          "height": 34
        },
        "outputId": "fb27441c-50d8-4639-f09c-e8a5c976b61b"
      },
      "cell_type": "code",
      "source": [
        "X, y = load_extended_boston()\n",
        "print(X.shape, y.shape)"
      ],
      "execution_count": 35,
      "outputs": [
        {
          "output_type": "stream",
          "text": [
            "(506, 104) (506,)\n"
          ],
          "name": "stdout"
        }
      ]
    },
    {
      "metadata": {
        "id": "fYVKU0wAqZQJ",
        "colab_type": "code",
        "colab": {
          "base_uri": "https://localhost:8080/",
          "height": 34
        },
        "outputId": "28d438b0-402b-4cd6-dfbd-d8422cf52728"
      },
      "cell_type": "code",
      "source": [
        "y[1:5]"
      ],
      "execution_count": 36,
      "outputs": [
        {
          "output_type": "execute_result",
          "data": {
            "text/plain": [
              "array([21.6, 34.7, 33.4, 36.2])"
            ]
          },
          "metadata": {
            "tags": []
          },
          "execution_count": 36
        }
      ]
    },
    {
      "metadata": {
        "id": "awNFWiin6O5F",
        "colab_type": "code",
        "outputId": "ef8b7993-2329-4fe7-ca80-20c09b0c1dc1",
        "colab": {
          "base_uri": "https://localhost:8080/",
          "height": 51
        }
      },
      "cell_type": "code",
      "source": [
        "X_train, X_test, y_train, y_test = train_test_split(X, y, random_state=42)\n",
        "lr = LinearRegression().fit(X_train, y_train)\n",
        "print(\"훈련 데이터 세트 점수 : {:.2f}\".format(lr.score(X_train, y_train)))\n",
        "print(\"테스트 데이터 세트 점수 : {:.2f}\".format(lr.score(X_test, y_test)))\n"
      ],
      "execution_count": 37,
      "outputs": [
        {
          "output_type": "stream",
          "text": [
            "훈련 데이터 세트 점수 : 0.94\n",
            "테스트 데이터 세트 점수 : 0.78\n"
          ],
          "name": "stdout"
        }
      ]
    },
    {
      "metadata": {
        "id": "JkOjE8kJMKGJ",
        "colab_type": "code",
        "colab": {
          "base_uri": "https://localhost:8080/",
          "height": 51
        },
        "outputId": "780de1df-dc73-4133-d9ad-b6775439274e"
      },
      "cell_type": "code",
      "source": [
        "#from sklearn.datasets import Ridge\n",
        "#상기의 명령이 실행 되면 에러가 나오는 이유는? \n",
        "ridge = Ridge().fit(X_train, y_train)\n",
        "print('훈련 세트 점수:{:.2f}'.format(ridge.score(X_train, y_train)))\n",
        "print('테스트 세트 점수:{:.2f}'.format(ridge.score(X_test, y_test)))\n"
      ],
      "execution_count": 39,
      "outputs": [
        {
          "output_type": "stream",
          "text": [
            "훈련 세트 점수:0.87\n",
            "테스트 세트 점수:0.81\n"
          ],
          "name": "stdout"
        }
      ]
    },
    {
      "metadata": {
        "id": "mgQDFUskvoNc",
        "colab_type": "code",
        "colab": {
          "base_uri": "https://localhost:8080/",
          "height": 51
        },
        "outputId": "d776a3e7-873b-4965-ed70-f831fc20ac22"
      },
      "cell_type": "code",
      "source": [
        "##linear_model.Ridge\n",
        "##from sklearn.linear_model import Ridge  \n",
        "## 계수를 0에 가깝게 만들어 제약, 과적합 해결 \n",
        "ridge5=Ridge(alpha=5).fit(X_train, y_train)\n",
        "print('훈련 세트 점수:{:.2f}'.format(ridge5.score(X_train, y_train)))\n",
        "print('테스트 세트 점수:{:.2f}'.format(ridge5.score(X_test, y_test)))\n"
      ],
      "execution_count": 43,
      "outputs": [
        {
          "output_type": "stream",
          "text": [
            "훈련 세트 점수:0.80\n",
            "테스트 세트 점수:0.76\n"
          ],
          "name": "stdout"
        }
      ]
    },
    {
      "metadata": {
        "id": "eSOL70IXyCqw",
        "colab_type": "code",
        "colab": {
          "base_uri": "https://localhost:8080/",
          "height": 51
        },
        "outputId": "25789119-2e1b-4d2e-9c27-8d47349e0a55"
      },
      "cell_type": "code",
      "source": [
        "rigde05 = Ridge(alpha=0.5).fit(X_train, y_train)\n",
        "print(\"훈련 세트 점수 : {:.2f}\".format(rigde05.score(X_train, y_train)))\n",
        "print(\"테스트 세트 점수 : {:.2f}\".format(rigde05.score(X_test, y_test)))"
      ],
      "execution_count": 44,
      "outputs": [
        {
          "output_type": "stream",
          "text": [
            "훈련 세트 점수 : 0.89\n",
            "테스트 세트 점수 : 0.82\n"
          ],
          "name": "stdout"
        }
      ]
    },
    {
      "metadata": {
        "id": "hqFZpOB9yOLY",
        "colab_type": "code",
        "colab": {
          "base_uri": "https://localhost:8080/",
          "height": 51
        },
        "outputId": "aaf70281-61d1-45b6-83f6-09cb6337a23f"
      },
      "cell_type": "code",
      "source": [
        "rigde01 = Ridge(alpha=0.3).fit(X_train, y_train)\n",
        "print(\"훈련 세트 점수 : {:.2f}\".format(rigde01.score(X_train, y_train)))\n",
        "print(\"테스트 세트 점수 : {:.2f}\".format(rigde01.score(X_test, y_test)))"
      ],
      "execution_count": 45,
      "outputs": [
        {
          "output_type": "stream",
          "text": [
            "훈련 세트 점수 : 0.90\n",
            "테스트 세트 점수 : 0.83\n"
          ],
          "name": "stdout"
        }
      ]
    },
    {
      "metadata": {
        "id": "kIY7h2nkyWRk",
        "colab_type": "code",
        "colab": {
          "base_uri": "https://localhost:8080/",
          "height": 51
        },
        "outputId": "4532a32a-fff8-4c20-e604-bbb9c8718788"
      },
      "cell_type": "code",
      "source": [
        "lr = LinearRegression().fit(X_train, y_train)\n",
        "\n",
        "print(\"훈련 세트 점수 : {:.2f}\".format(rigde01.score(X_train, y_train)))\n",
        "print(\"테스트 세트 점수 : {:.2f}\".format(rigde01.score(X_test, y_test)))"
      ],
      "execution_count": 47,
      "outputs": [
        {
          "output_type": "stream",
          "text": [
            "훈련 세트 점수 : 0.94\n",
            "테스트 세트 점수 : 0.78\n"
          ],
          "name": "stdout"
        }
      ]
    },
    {
      "metadata": {
        "id": "sUGKIeEBy6bl",
        "colab_type": "code",
        "colab": {}
      },
      "cell_type": "code",
      "source": [
        "ridge0001 = Ridge(alpha=0.001).fit(X_train, y_train)\n",
        "ridge1 = Ridge(alpha=1).fit(X_train, y_train)\n",
        "ridge10 = Ridge(alpha=10).fit(X_train, y_train)\n",
        "lr = LinearRegression().fit(X_train, y_train)"
      ],
      "execution_count": 0,
      "outputs": []
    },
    {
      "metadata": {
        "id": "rfxcAmIcy_UJ",
        "colab_type": "code",
        "colab": {
          "base_uri": "https://localhost:8080/",
          "height": 463
        },
        "outputId": "bd443672-6a06-4ced-e37e-ec4714a1a4c3"
      },
      "cell_type": "code",
      "source": [
        "lr.coef_"
      ],
      "execution_count": 52,
      "outputs": [
        {
          "output_type": "execute_result",
          "data": {
            "text/plain": [
              "array([-5.11126504e+02,  4.02559787e+00, -9.45778613e+01,  1.34720251e+01,\n",
              "        3.48176257e+01,  6.03611391e+01,  3.49707471e+01,  2.94114542e+00,\n",
              "        3.14525465e+00,  8.20792132e+01,  1.24254396e+01,  3.86676075e+01,\n",
              "       -9.38409521e-01,  1.32936334e+01,  7.60317098e+02,  1.42274855e+03,\n",
              "        2.29220565e+02, -7.79405429e+01,  8.79429261e+01,  1.39813973e+01,\n",
              "        1.02565346e+02,  7.52178879e+02, -1.82071934e+03,  5.34143172e+02,\n",
              "       -2.41122305e+01,  1.11848898e+02, -4.38177813e+00, -1.23079894e+01,\n",
              "       -3.63360790e+00, -5.64878037e+01,  4.60395879e-01,  8.18005986e+00,\n",
              "       -2.06294404e+01, -3.49659791e+01,  4.31717988e+01, -2.92220843e+00,\n",
              "        1.45250942e+01, -3.24346333e+01,  3.66984591e+01, -2.75859278e+00,\n",
              "        6.27805740e+00,  4.98379104e+01,  6.55060318e+00,  3.91047481e+01,\n",
              "       -1.14826290e+01, -8.00990322e-01, -3.68662287e+00,  3.36483260e+01,\n",
              "       -1.49103502e+01,  1.34720251e+01, -1.80244019e+01, -2.90956806e+01,\n",
              "       -2.78115796e+00, -1.10315060e+01,  1.15584830e+00, -8.37313259e-01,\n",
              "       -7.89905136e+00,  6.27950290e+00, -1.09538327e+01, -2.48389637e+01,\n",
              "       -1.16316264e+01, -3.00228631e+00,  6.83518378e+01, -1.76428626e+01,\n",
              "        6.10371772e+01, -6.12936496e+01, -1.14748321e+01,  2.09075528e+01,\n",
              "        3.32421356e+01, -4.11743268e+01, -2.19312422e+01, -2.08881337e+01,\n",
              "       -5.05858326e+01, -2.14714962e+01, -1.11593182e+01, -6.16458839e-01,\n",
              "       -1.12569338e+00, -1.40290786e-01,  3.17622544e+01, -2.57159897e+01,\n",
              "        5.51837314e-01, -1.33768644e+01, -3.25170630e+01,  5.20806824e+01,\n",
              "        1.08614313e-01, -3.62670514e+01, -2.68217433e+01, -3.42720513e+01,\n",
              "        1.41341012e+01, -6.56371258e+01,  8.64151127e+01, -3.08281756e+01,\n",
              "        3.61562583e+01, -2.56736318e+01, -1.69118913e+01,  3.35683331e+01,\n",
              "       -7.48792540e+01, -2.02885460e+01,  3.35543349e+00,  1.07705825e+01,\n",
              "        3.50306579e+00, -5.10021527e+00,  2.46929457e+00,  2.55749022e+01])"
            ]
          },
          "metadata": {
            "tags": []
          },
          "execution_count": 52
        }
      ]
    },
    {
      "metadata": {
        "id": "5Lv-zPayB4cn",
        "colab_type": "code",
        "outputId": "43554fef-ce7f-45b3-d30d-7563e916ce15",
        "colab": {
          "base_uri": "https://localhost:8080/",
          "height": 378
        }
      },
      "cell_type": "code",
      "source": [
        "plt.plot(ridge0001.coef_,'r^',label = 'Ridge alpha = 0.01') # 삼각형 \n",
        "plt.plot(ridge1.coef_,'go',label = 'Ridge alpha = 1')  # 작은원\n",
        "plt.plot(ridge10.coef_,'bs',label ='Ridge alpha=10')    # 네모\n",
        "plt.plot(lr.coef_,'o',label = 'LinearRegression')       #원\n",
        "\n",
        "plt.xlabel('Coefficient list')\n",
        "plt.ylabel('Coefficient Measurement')\n",
        "plt.legend()"
      ],
      "execution_count": 53,
      "outputs": [
        {
          "output_type": "execute_result",
          "data": {
            "text/plain": [
              "<matplotlib.legend.Legend at 0x7f26ca25b898>"
            ]
          },
          "metadata": {
            "tags": []
          },
          "execution_count": 53
        },
        {
          "output_type": "display_data",
          "data": {
            "image/png": "[encoded data removed]",
            "text/plain": [
              "<matplotlib.figure.Figure at 0x7f26cf387390>"
            ]
          },
          "metadata": {
            "tags": []
          }
        }
      ]
    },
    {
      "metadata": {
        "id": "-zO74vBXH0Yp",
        "colab_type": "code",
        "outputId": "f167d9e0-c855-4ed3-a48a-43ec4b891dbe",
        "colab": {
          "base_uri": "https://localhost:8080/",
          "height": 410
        }
      },
      "cell_type": "code",
      "source": [
        "import mglearn\n",
        "mglearn.plots.plot_ridge_n_samples()"
      ],
      "execution_count": 54,
      "outputs": [
        {
          "output_type": "display_data",
          "data": {
            "image/png": "[encoded data removed]",
            "text/plain": [
              "<matplotlib.figure.Figure at 0x7f26f9618630>"
            ]
          },
          "metadata": {
            "tags": []
          }
        }
      ]
    }
  ]
}